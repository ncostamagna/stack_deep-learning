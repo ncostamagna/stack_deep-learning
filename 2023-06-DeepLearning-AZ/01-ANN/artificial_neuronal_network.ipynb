{
 "cells": [
  {
   "cell_type": "markdown",
   "id": "85871140",
   "metadata": {},
   "source": [
    "# Installations"
   ]
  },
  {
   "cell_type": "code",
   "execution_count": 7,
   "id": "618aba3c",
   "metadata": {
    "scrolled": true
   },
   "outputs": [
    {
     "name": "stdout",
     "output_type": "stream",
     "text": [
      "Requirement already satisfied: nvidia-cudnn-cu11==8.6.0.163 in /home/nahuel/anaconda3/envs/python3_11_3/lib/python3.11/site-packages (8.6.0.163)\n",
      "Requirement already satisfied: tensorflow==2.12.* in /home/nahuel/anaconda3/envs/python3_11_3/lib/python3.11/site-packages (2.12.0)\n",
      "Requirement already satisfied: nvidia-cublas-cu11 in /home/nahuel/anaconda3/envs/python3_11_3/lib/python3.11/site-packages (from nvidia-cudnn-cu11==8.6.0.163) (11.11.3.6)\n",
      "Requirement already satisfied: absl-py>=1.0.0 in /home/nahuel/anaconda3/envs/python3_11_3/lib/python3.11/site-packages (from tensorflow==2.12.*) (1.4.0)\n",
      "Requirement already satisfied: astunparse>=1.6.0 in /home/nahuel/anaconda3/envs/python3_11_3/lib/python3.11/site-packages (from tensorflow==2.12.*) (1.6.3)\n",
      "Requirement already satisfied: flatbuffers>=2.0 in /home/nahuel/anaconda3/envs/python3_11_3/lib/python3.11/site-packages (from tensorflow==2.12.*) (23.5.26)\n",
      "Requirement already satisfied: gast<=0.4.0,>=0.2.1 in /home/nahuel/anaconda3/envs/python3_11_3/lib/python3.11/site-packages (from tensorflow==2.12.*) (0.4.0)\n",
      "Requirement already satisfied: google-pasta>=0.1.1 in /home/nahuel/anaconda3/envs/python3_11_3/lib/python3.11/site-packages (from tensorflow==2.12.*) (0.2.0)\n",
      "Requirement already satisfied: grpcio<2.0,>=1.24.3 in /home/nahuel/anaconda3/envs/python3_11_3/lib/python3.11/site-packages (from tensorflow==2.12.*) (1.56.0)\n",
      "Requirement already satisfied: h5py>=2.9.0 in /home/nahuel/anaconda3/envs/python3_11_3/lib/python3.11/site-packages (from tensorflow==2.12.*) (3.9.0)\n",
      "Requirement already satisfied: jax>=0.3.15 in /home/nahuel/anaconda3/envs/python3_11_3/lib/python3.11/site-packages (from tensorflow==2.12.*) (0.4.13)\n",
      "Requirement already satisfied: keras<2.13,>=2.12.0 in /home/nahuel/anaconda3/envs/python3_11_3/lib/python3.11/site-packages (from tensorflow==2.12.*) (2.12.0)\n",
      "Requirement already satisfied: libclang>=13.0.0 in /home/nahuel/anaconda3/envs/python3_11_3/lib/python3.11/site-packages (from tensorflow==2.12.*) (16.0.0)\n",
      "Requirement already satisfied: numpy<1.24,>=1.22 in /home/nahuel/anaconda3/envs/python3_11_3/lib/python3.11/site-packages (from tensorflow==2.12.*) (1.23.5)\n",
      "Requirement already satisfied: opt-einsum>=2.3.2 in /home/nahuel/anaconda3/envs/python3_11_3/lib/python3.11/site-packages (from tensorflow==2.12.*) (3.3.0)\n",
      "Requirement already satisfied: packaging in /home/nahuel/anaconda3/envs/python3_11_3/lib/python3.11/site-packages (from tensorflow==2.12.*) (23.1)\n",
      "Requirement already satisfied: protobuf!=4.21.0,!=4.21.1,!=4.21.2,!=4.21.3,!=4.21.4,!=4.21.5,<5.0.0dev,>=3.20.3 in /home/nahuel/anaconda3/envs/python3_11_3/lib/python3.11/site-packages (from tensorflow==2.12.*) (4.23.3)\n",
      "Requirement already satisfied: setuptools in /home/nahuel/anaconda3/envs/python3_11_3/lib/python3.11/site-packages (from tensorflow==2.12.*) (66.0.0)\n",
      "Requirement already satisfied: six>=1.12.0 in /home/nahuel/anaconda3/envs/python3_11_3/lib/python3.11/site-packages (from tensorflow==2.12.*) (1.16.0)\n",
      "Requirement already satisfied: tensorboard<2.13,>=2.12 in /home/nahuel/anaconda3/envs/python3_11_3/lib/python3.11/site-packages (from tensorflow==2.12.*) (2.12.3)\n",
      "Requirement already satisfied: tensorflow-estimator<2.13,>=2.12.0 in /home/nahuel/anaconda3/envs/python3_11_3/lib/python3.11/site-packages (from tensorflow==2.12.*) (2.12.0)\n",
      "Requirement already satisfied: termcolor>=1.1.0 in /home/nahuel/anaconda3/envs/python3_11_3/lib/python3.11/site-packages (from tensorflow==2.12.*) (2.3.0)\n",
      "Requirement already satisfied: typing-extensions>=3.6.6 in /home/nahuel/anaconda3/envs/python3_11_3/lib/python3.11/site-packages (from tensorflow==2.12.*) (4.6.3)\n",
      "Requirement already satisfied: wrapt<1.15,>=1.11.0 in /home/nahuel/anaconda3/envs/python3_11_3/lib/python3.11/site-packages (from tensorflow==2.12.*) (1.14.1)\n",
      "Requirement already satisfied: tensorflow-io-gcs-filesystem>=0.23.1 in /home/nahuel/anaconda3/envs/python3_11_3/lib/python3.11/site-packages (from tensorflow==2.12.*) (0.32.0)\n",
      "Requirement already satisfied: wheel<1.0,>=0.23.0 in /home/nahuel/anaconda3/envs/python3_11_3/lib/python3.11/site-packages (from astunparse>=1.6.0->tensorflow==2.12.*) (0.38.4)\n",
      "Requirement already satisfied: ml-dtypes>=0.1.0 in /home/nahuel/anaconda3/envs/python3_11_3/lib/python3.11/site-packages (from jax>=0.3.15->tensorflow==2.12.*) (0.2.0)\n",
      "Requirement already satisfied: scipy>=1.7 in /home/nahuel/anaconda3/envs/python3_11_3/lib/python3.11/site-packages (from jax>=0.3.15->tensorflow==2.12.*) (1.10.1)\n",
      "Requirement already satisfied: google-auth<3,>=1.6.3 in /home/nahuel/anaconda3/envs/python3_11_3/lib/python3.11/site-packages (from tensorboard<2.13,>=2.12->tensorflow==2.12.*) (2.20.0)\n",
      "Requirement already satisfied: google-auth-oauthlib<1.1,>=0.5 in /home/nahuel/anaconda3/envs/python3_11_3/lib/python3.11/site-packages (from tensorboard<2.13,>=2.12->tensorflow==2.12.*) (1.0.0)\n",
      "Requirement already satisfied: markdown>=2.6.8 in /home/nahuel/anaconda3/envs/python3_11_3/lib/python3.11/site-packages (from tensorboard<2.13,>=2.12->tensorflow==2.12.*) (3.4.3)\n",
      "Requirement already satisfied: requests<3,>=2.21.0 in /home/nahuel/anaconda3/envs/python3_11_3/lib/python3.11/site-packages (from tensorboard<2.13,>=2.12->tensorflow==2.12.*) (2.31.0)\n",
      "Requirement already satisfied: tensorboard-data-server<0.8.0,>=0.7.0 in /home/nahuel/anaconda3/envs/python3_11_3/lib/python3.11/site-packages (from tensorboard<2.13,>=2.12->tensorflow==2.12.*) (0.7.1)\n",
      "Requirement already satisfied: werkzeug>=1.0.1 in /home/nahuel/anaconda3/envs/python3_11_3/lib/python3.11/site-packages (from tensorboard<2.13,>=2.12->tensorflow==2.12.*) (2.3.6)\n",
      "Requirement already satisfied: cachetools<6.0,>=2.0.0 in /home/nahuel/anaconda3/envs/python3_11_3/lib/python3.11/site-packages (from google-auth<3,>=1.6.3->tensorboard<2.13,>=2.12->tensorflow==2.12.*) (5.3.1)\n",
      "Requirement already satisfied: pyasn1-modules>=0.2.1 in /home/nahuel/anaconda3/envs/python3_11_3/lib/python3.11/site-packages (from google-auth<3,>=1.6.3->tensorboard<2.13,>=2.12->tensorflow==2.12.*) (0.3.0)\n",
      "Requirement already satisfied: rsa<5,>=3.1.4 in /home/nahuel/anaconda3/envs/python3_11_3/lib/python3.11/site-packages (from google-auth<3,>=1.6.3->tensorboard<2.13,>=2.12->tensorflow==2.12.*) (4.9)\n",
      "Requirement already satisfied: urllib3<2.0 in /home/nahuel/anaconda3/envs/python3_11_3/lib/python3.11/site-packages (from google-auth<3,>=1.6.3->tensorboard<2.13,>=2.12->tensorflow==2.12.*) (1.26.16)\n",
      "Requirement already satisfied: requests-oauthlib>=0.7.0 in /home/nahuel/anaconda3/envs/python3_11_3/lib/python3.11/site-packages (from google-auth-oauthlib<1.1,>=0.5->tensorboard<2.13,>=2.12->tensorflow==2.12.*) (1.3.1)\n",
      "Requirement already satisfied: charset-normalizer<4,>=2 in /home/nahuel/anaconda3/envs/python3_11_3/lib/python3.11/site-packages (from requests<3,>=2.21.0->tensorboard<2.13,>=2.12->tensorflow==2.12.*) (3.1.0)\n",
      "Requirement already satisfied: idna<4,>=2.5 in /home/nahuel/anaconda3/envs/python3_11_3/lib/python3.11/site-packages (from requests<3,>=2.21.0->tensorboard<2.13,>=2.12->tensorflow==2.12.*) (3.4)\n",
      "Requirement already satisfied: certifi>=2017.4.17 in /home/nahuel/anaconda3/envs/python3_11_3/lib/python3.11/site-packages (from requests<3,>=2.21.0->tensorboard<2.13,>=2.12->tensorflow==2.12.*) (2023.5.7)\n",
      "Requirement already satisfied: MarkupSafe>=2.1.1 in /home/nahuel/anaconda3/envs/python3_11_3/lib/python3.11/site-packages (from werkzeug>=1.0.1->tensorboard<2.13,>=2.12->tensorflow==2.12.*) (2.1.3)\n",
      "Requirement already satisfied: pyasn1<0.6.0,>=0.4.6 in /home/nahuel/anaconda3/envs/python3_11_3/lib/python3.11/site-packages (from pyasn1-modules>=0.2.1->google-auth<3,>=1.6.3->tensorboard<2.13,>=2.12->tensorflow==2.12.*) (0.5.0)\n",
      "Requirement already satisfied: oauthlib>=3.0.0 in /home/nahuel/anaconda3/envs/python3_11_3/lib/python3.11/site-packages (from requests-oauthlib>=0.7.0->google-auth-oauthlib<1.1,>=0.5->tensorboard<2.13,>=2.12->tensorflow==2.12.*) (3.2.2)\n"
     ]
    }
   ],
   "source": [
    "!pip install nvidia-cudnn-cu11==8.6.0.163 tensorflow==2.12.*"
   ]
  },
  {
   "cell_type": "code",
   "execution_count": 15,
   "id": "faf42a7e",
   "metadata": {},
   "outputs": [
    {
     "name": "stdout",
     "output_type": "stream",
     "text": [
      "Requirement already satisfied: pandas in /home/nahuel/anaconda3/envs/python3_11_3/lib/python3.11/site-packages (2.0.2)\n",
      "Requirement already satisfied: numpy in /home/nahuel/anaconda3/envs/python3_11_3/lib/python3.11/site-packages (1.23.5)\n",
      "Requirement already satisfied: python-dateutil>=2.8.2 in /home/nahuel/anaconda3/envs/python3_11_3/lib/python3.11/site-packages (from pandas) (2.8.2)\n",
      "Requirement already satisfied: pytz>=2020.1 in /home/nahuel/anaconda3/envs/python3_11_3/lib/python3.11/site-packages (from pandas) (2023.3)\n",
      "Requirement already satisfied: tzdata>=2022.1 in /home/nahuel/anaconda3/envs/python3_11_3/lib/python3.11/site-packages (from pandas) (2023.3)\n",
      "Requirement already satisfied: six>=1.5 in /home/nahuel/anaconda3/envs/python3_11_3/lib/python3.11/site-packages (from python-dateutil>=2.8.2->pandas) (1.16.0)\n",
      "Collecting scikit-learn\n",
      "  Downloading scikit_learn-1.2.2-cp311-cp311-manylinux_2_17_x86_64.manylinux2014_x86_64.whl (9.6 MB)\n",
      "\u001b[2K     \u001b[38;2;114;156;31m━━━━━━━━━━━━━━━━━━━━━━━━━━━━━━━━━━━━━━━━\u001b[0m \u001b[32m9.6/9.6 MB\u001b[0m \u001b[31m937.3 kB/s\u001b[0m eta \u001b[36m0:00:00\u001b[0mm eta \u001b[36m0:00:01\u001b[0m[36m0:00:01\u001b[0m\n",
      "\u001b[?25hRequirement already satisfied: numpy>=1.17.3 in /home/nahuel/anaconda3/envs/python3_11_3/lib/python3.11/site-packages (from scikit-learn) (1.23.5)\n",
      "Requirement already satisfied: scipy>=1.3.2 in /home/nahuel/anaconda3/envs/python3_11_3/lib/python3.11/site-packages (from scikit-learn) (1.10.1)\n",
      "Collecting joblib>=1.1.1\n",
      "  Downloading joblib-1.2.0-py3-none-any.whl (297 kB)\n",
      "\u001b[2K     \u001b[38;2;114;156;31m━━━━━━━━━━━━━━━━━━━━━━━━━━━━━━━━━━━━━\u001b[0m \u001b[32m298.0/298.0 kB\u001b[0m \u001b[31m848.1 kB/s\u001b[0m eta \u001b[36m0:00:00\u001b[0m MB/s\u001b[0m eta \u001b[36m0:00:01\u001b[0m:01\u001b[0m\n",
      "\u001b[?25hCollecting threadpoolctl>=2.0.0\n",
      "  Using cached threadpoolctl-3.1.0-py3-none-any.whl (14 kB)\n",
      "Installing collected packages: threadpoolctl, joblib, scikit-learn\n",
      "Successfully installed joblib-1.2.0 scikit-learn-1.2.2 threadpoolctl-3.1.0\n"
     ]
    }
   ],
   "source": [
    "!pip install pandas numpy\n",
    "!pip install -U scikit-learn"
   ]
  },
  {
   "cell_type": "markdown",
   "id": "f3c507dc",
   "metadata": {},
   "source": [
    "# Import"
   ]
  },
  {
   "cell_type": "code",
   "execution_count": 9,
   "id": "93481e17",
   "metadata": {},
   "outputs": [],
   "source": [
    "import numpy as np\n",
    "import pandas as pd\n",
    "import tensorflow as tf"
   ]
  },
  {
   "cell_type": "code",
   "execution_count": 10,
   "id": "d0110d82",
   "metadata": {},
   "outputs": [
    {
     "data": {
      "text/plain": [
       "'2.12.0'"
      ]
     },
     "execution_count": 10,
     "metadata": {},
     "output_type": "execute_result"
    }
   ],
   "source": [
    "tf.__version__"
   ]
  },
  {
   "cell_type": "markdown",
   "id": "d2c5903d",
   "metadata": {},
   "source": [
    "# Import data"
   ]
  },
  {
   "cell_type": "code",
   "execution_count": 39,
   "id": "656e2556",
   "metadata": {},
   "outputs": [],
   "source": [
    "dataset = pd.read_csv('Churn_Modelling.csv')\n",
    "X = dataset.iloc[:, 3:-1].values \n",
    "y = dataset.iloc[:, -1].values # y values to compare"
   ]
  },
  {
   "cell_type": "code",
   "execution_count": 40,
   "id": "7f8a204b",
   "metadata": {},
   "outputs": [
    {
     "name": "stdout",
     "output_type": "stream",
     "text": [
      "[1 0 1 ... 1 1 0]\n",
      "[[619 'France' 'Female' ... 1 1 101348.88]\n",
      " [608 'Spain' 'Female' ... 0 1 112542.58]\n",
      " [502 'France' 'Female' ... 1 0 113931.57]\n",
      " ...\n",
      " [709 'France' 'Female' ... 0 1 42085.58]\n",
      " [772 'Germany' 'Male' ... 1 0 92888.52]\n",
      " [792 'France' 'Female' ... 1 0 38190.78]]\n"
     ]
    }
   ],
   "source": [
    "print(y)\n",
    "print(X)"
   ]
  },
  {
   "cell_type": "markdown",
   "id": "571510e2",
   "metadata": {},
   "source": [
    "# Encoding categorical data"
   ]
  },
  {
   "cell_type": "markdown",
   "id": "b792886c",
   "metadata": {},
   "source": [
    "Encoding the \"Gender\" column.<br/>\n",
    "From ['Male','Famele'] to [1,0]"
   ]
  },
  {
   "cell_type": "code",
   "execution_count": 41,
   "id": "3e76729b",
   "metadata": {},
   "outputs": [
    {
     "name": "stdout",
     "output_type": "stream",
     "text": [
      "[[619 'France' 0 42 2 0.0 1 1 1 101348.88]\n",
      " [608 'Spain' 0 41 1 83807.86 1 0 1 112542.58]\n",
      " [502 'France' 0 42 8 159660.8 3 1 0 113931.57]\n",
      " [699 'France' 0 39 1 0.0 2 0 0 93826.63]]\n"
     ]
    }
   ],
   "source": [
    "from sklearn.preprocessing import LabelEncoder\n",
    "le = LabelEncoder()\n",
    "X[:, 2] = le.fit_transform(X[:, 2]) # Only column 2 (gender)\n",
    "\n",
    "print(X[0:4])"
   ]
  },
  {
   "cell_type": "markdown",
   "id": "4dc5fc62",
   "metadata": {},
   "source": [
    "One Hot Encoding the \"Geography\" column, the process set the encoder column (geography) first<br/>\n",
    "comibation between 0s and 1s<br/>\n",
    "100 => France, 001 => Spain, etc"
   ]
  },
  {
   "cell_type": "code",
   "execution_count": 42,
   "id": "1e0b7bac",
   "metadata": {},
   "outputs": [
    {
     "name": "stdout",
     "output_type": "stream",
     "text": [
      "[[1.0 0.0 0.0 619 0 42 2 0.0 1 1 1 101348.88]\n",
      " [0.0 0.0 1.0 608 0 41 1 83807.86 1 0 1 112542.58]\n",
      " [1.0 0.0 0.0 502 0 42 8 159660.8 3 1 0 113931.57]\n",
      " [1.0 0.0 0.0 699 0 39 1 0.0 2 0 0 93826.63]]\n"
     ]
    }
   ],
   "source": [
    "from sklearn.compose import ColumnTransformer\n",
    "from sklearn.preprocessing import OneHotEncoder\n",
    "# for geography column\n",
    "\n",
    "ct = ColumnTransformer(transformers=[('encoder', OneHotEncoder(), [1])], remainder='passthrough')\n",
    "X = np.array(ct.fit_transform(X))\n",
    "print(X[0:4])"
   ]
  },
  {
   "cell_type": "markdown",
   "id": "c56623bc",
   "metadata": {},
   "source": [
    "# Splitting the dataset into the Training set and Test set"
   ]
  },
  {
   "cell_type": "code",
   "execution_count": 48,
   "id": "1a6538c0",
   "metadata": {},
   "outputs": [
    {
     "name": "stdout",
     "output_type": "stream",
     "text": [
      "[[0.0 0.0 1.0 667 0 34 5 0.0 2 1 0 163830.64]\n",
      " [0.0 1.0 0.0 427 1 42 1 75681.52 1 1 1 57098.0]\n",
      " [1.0 0.0 0.0 535 0 29 2 112367.34 1 1 0 185630.76]\n",
      " [0.0 0.0 1.0 654 1 40 5 105683.63 1 1 0 173617.09]]\n",
      "[[0.0 1.0 0.0 597 0 35 8 131101.04 1 1 1 192852.67]\n",
      " [1.0 0.0 0.0 523 0 40 2 102967.41 1 1 0 128702.1]\n",
      " [0.0 0.0 1.0 706 0 42 8 95386.82 1 1 1 75732.25]\n",
      " [1.0 0.0 0.0 788 1 32 4 112079.58 1 0 0 89368.59]]\n"
     ]
    }
   ],
   "source": [
    "from sklearn.model_selection import train_test_split\n",
    "X_train, X_test, y_train, y_test = train_test_split(X, y, test_size = 0.2, random_state = 0)\n",
    "print(X_train[0:4])\n",
    "print(X_test[0:4])"
   ]
  },
  {
   "cell_type": "markdown",
   "id": "9390f8c2",
   "metadata": {},
   "source": [
    "# Feature Scaling\n",
    "very important for working with ANN\n",
    "### StandardScaler\n",
    "standardize or normalize the features or variables of a dataset<br />\n",
    "```\n",
    "z = (x - u) / s\n",
    "```\n",
    "where:\n",
    "\n",
    "- z is the standardized value of a data point,\n",
    "- x is the original value of the data point,\n",
    "- u is the mean of the feature or variable,\n",
    "- s is the standard deviation of the feature or variable."
   ]
  },
  {
   "cell_type": "code",
   "execution_count": 49,
   "id": "29d4effb",
   "metadata": {},
   "outputs": [
    {
     "name": "stdout",
     "output_type": "stream",
     "text": [
      "[[-1.01460667 -0.5698444   1.74309049  0.16958176 -1.09168714 -0.46460796\n",
      "   0.00666099 -1.21571749  0.8095029   0.64259497 -1.03227043  1.10643166]\n",
      " [-1.01460667  1.75486502 -0.57369368 -2.30455945  0.91601335  0.30102557\n",
      "  -1.37744033 -0.00631193 -0.92159124  0.64259497  0.9687384  -0.74866447]\n",
      " [ 0.98560362 -0.5698444  -0.57369368 -1.19119591 -1.09168714 -0.94312892\n",
      "  -1.031415    0.57993469 -0.92159124  0.64259497 -1.03227043  1.48533467]\n",
      " [-1.01460667 -0.5698444   1.74309049  0.03556578  0.91601335  0.10961719\n",
      "   0.00666099  0.47312769 -0.92159124  0.64259497 -1.03227043  1.27652776]]\n",
      "[[-1.01460667  1.75486502 -0.57369368 -0.55204276 -1.09168714 -0.36890377\n",
      "   1.04473698  0.8793029  -0.92159124  0.64259497  0.9687384   1.61085707]\n",
      " [ 0.98560362 -0.5698444  -0.57369368 -1.31490297 -1.09168714  0.10961719\n",
      "  -1.031415    0.42972196 -0.92159124  0.64259497 -1.03227043  0.49587037]\n",
      " [-1.01460667 -0.5698444   1.74309049  0.57162971 -1.09168714  0.30102557\n",
      "   1.04473698  0.30858264 -0.92159124  0.64259497  0.9687384  -0.42478674]\n",
      " [ 0.98560362 -0.5698444  -0.57369368  1.41696129  0.91601335 -0.65601634\n",
      "  -0.33936434  0.57533623 -0.92159124 -1.55619021 -1.03227043 -0.18777657]]\n"
     ]
    }
   ],
   "source": [
    "from sklearn.preprocessing import StandardScaler\n",
    "sc = StandardScaler()\n",
    "X_train = sc.fit_transform(X_train)\n",
    "X_test = sc.transform(X_test)\n",
    "print(X_train[0:4])\n",
    "print(X_test[0:4])"
   ]
  },
  {
   "cell_type": "markdown",
   "id": "716fc849",
   "metadata": {},
   "source": [
    "# Building the ANN"
   ]
  },
  {
   "cell_type": "code",
   "execution_count": 72,
   "id": "6fb0664e",
   "metadata": {},
   "outputs": [],
   "source": [
    "# initializing the ANN\n",
    "ann = tf.keras.models.Sequential()\n",
    "\n",
    "# Adding the input layer and the first hidden layer\n",
    "ann.add(tf.keras.layers.Dense(units=6, activation='relu'))\n",
    "\n",
    "# Adding the second hidden layer\n",
    "ann.add(tf.keras.layers.Dense(units=6, activation='relu'))\n",
    "\n",
    "# Adding the output layer\n",
    "ann.add(tf.keras.layers.Dense(units=1, activation='sigmoid'))\n"
   ]
  },
  {
   "cell_type": "markdown",
   "id": "e614bc07",
   "metadata": {},
   "source": [
    "# Compiling the ANN & Training\n",
    "\n",
    "- adam: very performance optimazer that can perform the Stochastic Gradient Descent\n",
    "- binary_crossentropy: in this case we need binary classification (true or false)"
   ]
  },
  {
   "cell_type": "code",
   "execution_count": 73,
   "id": "eda76c26",
   "metadata": {},
   "outputs": [],
   "source": [
    "ann.compile(optimizer = 'adam', loss = 'binary_crossentropy', metrics = ['accuracy'])"
   ]
  },
  {
   "cell_type": "code",
   "execution_count": 75,
   "id": "d27a3bd2",
   "metadata": {},
   "outputs": [
    {
     "name": "stdout",
     "output_type": "stream",
     "text": [
      "Epoch 1/100\n",
      "250/250 [==============================] - 2s 5ms/step - loss: 0.4366 - accuracy: 0.8030\n",
      "Epoch 2/100\n",
      "250/250 [==============================] - 1s 6ms/step - loss: 0.4305 - accuracy: 0.8051\n",
      "Epoch 3/100\n",
      "250/250 [==============================] - 1s 5ms/step - loss: 0.4237 - accuracy: 0.8111\n",
      "Epoch 4/100\n",
      "250/250 [==============================] - 2s 7ms/step - loss: 0.4157 - accuracy: 0.8167\n",
      "Epoch 5/100\n",
      "250/250 [==============================] - 1s 6ms/step - loss: 0.4059 - accuracy: 0.8256\n",
      "Epoch 6/100\n",
      "250/250 [==============================] - 1s 5ms/step - loss: 0.3953 - accuracy: 0.8346\n",
      "Epoch 7/100\n",
      "250/250 [==============================] - 1s 5ms/step - loss: 0.3854 - accuracy: 0.8396\n",
      "Epoch 8/100\n",
      "250/250 [==============================] - 2s 7ms/step - loss: 0.3769 - accuracy: 0.8456\n",
      "Epoch 9/100\n",
      "250/250 [==============================] - 1s 5ms/step - loss: 0.3702 - accuracy: 0.8472\n",
      "Epoch 10/100\n",
      "250/250 [==============================] - 2s 7ms/step - loss: 0.3647 - accuracy: 0.8497\n",
      "Epoch 11/100\n",
      "250/250 [==============================] - 2s 7ms/step - loss: 0.3611 - accuracy: 0.8520\n",
      "Epoch 12/100\n",
      "250/250 [==============================] - 1s 6ms/step - loss: 0.3584 - accuracy: 0.8516\n",
      "Epoch 13/100\n",
      "250/250 [==============================] - 1s 5ms/step - loss: 0.3558 - accuracy: 0.8537\n",
      "Epoch 14/100\n",
      "250/250 [==============================] - 1s 5ms/step - loss: 0.3540 - accuracy: 0.8526\n",
      "Epoch 15/100\n",
      "250/250 [==============================] - 2s 6ms/step - loss: 0.3526 - accuracy: 0.8530\n",
      "Epoch 16/100\n",
      "250/250 [==============================] - 2s 6ms/step - loss: 0.3514 - accuracy: 0.8546\n",
      "Epoch 17/100\n",
      "250/250 [==============================] - 1s 5ms/step - loss: 0.3502 - accuracy: 0.8535\n",
      "Epoch 18/100\n",
      "250/250 [==============================] - 2s 7ms/step - loss: 0.3495 - accuracy: 0.8537\n",
      "Epoch 19/100\n",
      "250/250 [==============================] - 2s 6ms/step - loss: 0.3489 - accuracy: 0.8539\n",
      "Epoch 20/100\n",
      "250/250 [==============================] - 2s 7ms/step - loss: 0.3484 - accuracy: 0.8543\n",
      "Epoch 21/100\n",
      "250/250 [==============================] - 2s 6ms/step - loss: 0.3480 - accuracy: 0.8549\n",
      "Epoch 22/100\n",
      "250/250 [==============================] - 2s 8ms/step - loss: 0.3466 - accuracy: 0.8562\n",
      "Epoch 23/100\n",
      "250/250 [==============================] - 1s 6ms/step - loss: 0.3468 - accuracy: 0.8575\n",
      "Epoch 24/100\n",
      "250/250 [==============================] - 2s 8ms/step - loss: 0.3460 - accuracy: 0.8579\n",
      "Epoch 25/100\n",
      "250/250 [==============================] - 2s 7ms/step - loss: 0.3458 - accuracy: 0.8575\n",
      "Epoch 26/100\n",
      "250/250 [==============================] - 1s 6ms/step - loss: 0.3454 - accuracy: 0.8583\n",
      "Epoch 27/100\n",
      "250/250 [==============================] - 1s 6ms/step - loss: 0.3449 - accuracy: 0.8565\n",
      "Epoch 28/100\n",
      "250/250 [==============================] - 2s 8ms/step - loss: 0.3443 - accuracy: 0.8583\n",
      "Epoch 29/100\n",
      "250/250 [==============================] - 2s 6ms/step - loss: 0.3440 - accuracy: 0.8589\n",
      "Epoch 30/100\n",
      "250/250 [==============================] - 1s 6ms/step - loss: 0.3442 - accuracy: 0.8597\n",
      "Epoch 31/100\n",
      "250/250 [==============================] - 2s 8ms/step - loss: 0.3437 - accuracy: 0.8593\n",
      "Epoch 32/100\n",
      "250/250 [==============================] - 2s 7ms/step - loss: 0.3436 - accuracy: 0.8586\n",
      "Epoch 33/100\n",
      "250/250 [==============================] - 1s 4ms/step - loss: 0.3429 - accuracy: 0.8601\n",
      "Epoch 34/100\n",
      "250/250 [==============================] - 1s 4ms/step - loss: 0.3428 - accuracy: 0.8612\n",
      "Epoch 35/100\n",
      "250/250 [==============================] - 1s 4ms/step - loss: 0.3422 - accuracy: 0.8611\n",
      "Epoch 36/100\n",
      "250/250 [==============================] - 1s 4ms/step - loss: 0.3421 - accuracy: 0.8606\n",
      "Epoch 37/100\n",
      "250/250 [==============================] - 1s 3ms/step - loss: 0.3419 - accuracy: 0.8609\n",
      "Epoch 38/100\n",
      "250/250 [==============================] - 1s 5ms/step - loss: 0.3416 - accuracy: 0.8593\n",
      "Epoch 39/100\n",
      "250/250 [==============================] - 2s 8ms/step - loss: 0.3415 - accuracy: 0.8612\n",
      "Epoch 40/100\n",
      "250/250 [==============================] - 1s 4ms/step - loss: 0.3411 - accuracy: 0.8608\n",
      "Epoch 41/100\n",
      "250/250 [==============================] - 1s 3ms/step - loss: 0.3411 - accuracy: 0.8624\n",
      "Epoch 42/100\n",
      "250/250 [==============================] - 1s 3ms/step - loss: 0.3407 - accuracy: 0.8604\n",
      "Epoch 43/100\n",
      "250/250 [==============================] - 1s 4ms/step - loss: 0.3406 - accuracy: 0.8631\n",
      "Epoch 44/100\n",
      "250/250 [==============================] - 1s 2ms/step - loss: 0.3401 - accuracy: 0.8621\n",
      "Epoch 45/100\n",
      "250/250 [==============================] - 1s 3ms/step - loss: 0.3401 - accuracy: 0.8626\n",
      "Epoch 46/100\n",
      "250/250 [==============================] - 1s 4ms/step - loss: 0.3397 - accuracy: 0.8620\n",
      "Epoch 47/100\n",
      "250/250 [==============================] - 1s 3ms/step - loss: 0.3400 - accuracy: 0.8624\n",
      "Epoch 48/100\n",
      "250/250 [==============================] - 1s 3ms/step - loss: 0.3395 - accuracy: 0.8615\n",
      "Epoch 49/100\n",
      "250/250 [==============================] - 1s 2ms/step - loss: 0.3393 - accuracy: 0.8615\n",
      "Epoch 50/100\n",
      "250/250 [==============================] - 0s 2ms/step - loss: 0.3392 - accuracy: 0.8624\n",
      "Epoch 51/100\n",
      "250/250 [==============================] - 0s 2ms/step - loss: 0.3388 - accuracy: 0.8626\n",
      "Epoch 52/100\n",
      "250/250 [==============================] - 1s 2ms/step - loss: 0.3390 - accuracy: 0.8615\n",
      "Epoch 53/100\n",
      "250/250 [==============================] - 0s 2ms/step - loss: 0.3387 - accuracy: 0.8614\n",
      "Epoch 54/100\n",
      "250/250 [==============================] - 0s 2ms/step - loss: 0.3383 - accuracy: 0.8637\n",
      "Epoch 55/100\n",
      "250/250 [==============================] - 0s 2ms/step - loss: 0.3381 - accuracy: 0.8630\n",
      "Epoch 56/100\n",
      "250/250 [==============================] - 1s 2ms/step - loss: 0.3381 - accuracy: 0.8620\n",
      "Epoch 57/100\n",
      "250/250 [==============================] - 0s 2ms/step - loss: 0.3379 - accuracy: 0.8620\n",
      "Epoch 58/100\n",
      "250/250 [==============================] - 0s 2ms/step - loss: 0.3373 - accuracy: 0.8635\n",
      "Epoch 59/100\n",
      "250/250 [==============================] - 1s 2ms/step - loss: 0.3373 - accuracy: 0.8635\n",
      "Epoch 60/100\n",
      "250/250 [==============================] - 1s 3ms/step - loss: 0.3372 - accuracy: 0.8646\n",
      "Epoch 61/100\n",
      "250/250 [==============================] - 1s 2ms/step - loss: 0.3372 - accuracy: 0.8634\n",
      "Epoch 62/100\n",
      "250/250 [==============================] - 0s 2ms/step - loss: 0.3368 - accuracy: 0.8627\n",
      "Epoch 63/100\n",
      "250/250 [==============================] - 0s 2ms/step - loss: 0.3368 - accuracy: 0.8629\n",
      "Epoch 64/100\n",
      "250/250 [==============================] - 1s 2ms/step - loss: 0.3363 - accuracy: 0.8630\n",
      "Epoch 65/100\n",
      "250/250 [==============================] - 0s 2ms/step - loss: 0.3365 - accuracy: 0.8621\n",
      "Epoch 66/100\n",
      "250/250 [==============================] - 0s 2ms/step - loss: 0.3357 - accuracy: 0.8644\n",
      "Epoch 67/100\n",
      "250/250 [==============================] - 1s 2ms/step - loss: 0.3361 - accuracy: 0.8629\n",
      "Epoch 68/100\n",
      "250/250 [==============================] - 1s 2ms/step - loss: 0.3359 - accuracy: 0.8627\n",
      "Epoch 69/100\n",
      "250/250 [==============================] - 0s 2ms/step - loss: 0.3359 - accuracy: 0.8626\n",
      "Epoch 70/100\n",
      "250/250 [==============================] - 1s 2ms/step - loss: 0.3356 - accuracy: 0.8630\n",
      "Epoch 71/100\n",
      "250/250 [==============================] - 1s 3ms/step - loss: 0.3349 - accuracy: 0.8636\n",
      "Epoch 72/100\n",
      "250/250 [==============================] - 1s 2ms/step - loss: 0.3356 - accuracy: 0.8619\n",
      "Epoch 73/100\n",
      "250/250 [==============================] - 1s 2ms/step - loss: 0.3355 - accuracy: 0.8637\n",
      "Epoch 74/100\n",
      "250/250 [==============================] - 1s 2ms/step - loss: 0.3350 - accuracy: 0.8625\n",
      "Epoch 75/100\n",
      "250/250 [==============================] - 1s 2ms/step - loss: 0.3349 - accuracy: 0.8648\n",
      "Epoch 76/100\n",
      "250/250 [==============================] - 0s 2ms/step - loss: 0.3350 - accuracy: 0.8627\n",
      "Epoch 77/100\n",
      "250/250 [==============================] - 0s 2ms/step - loss: 0.3346 - accuracy: 0.8619\n",
      "Epoch 78/100\n",
      "250/250 [==============================] - 1s 2ms/step - loss: 0.3351 - accuracy: 0.8639\n",
      "Epoch 79/100\n",
      "250/250 [==============================] - 1s 2ms/step - loss: 0.3347 - accuracy: 0.8626\n",
      "Epoch 80/100\n",
      "250/250 [==============================] - 0s 2ms/step - loss: 0.3344 - accuracy: 0.8624\n",
      "Epoch 81/100\n"
     ]
    },
    {
     "name": "stdout",
     "output_type": "stream",
     "text": [
      "250/250 [==============================] - 1s 2ms/step - loss: 0.3343 - accuracy: 0.8634\n",
      "Epoch 82/100\n",
      "250/250 [==============================] - 1s 3ms/step - loss: 0.3343 - accuracy: 0.8626\n",
      "Epoch 83/100\n",
      "250/250 [==============================] - 1s 2ms/step - loss: 0.3339 - accuracy: 0.8635\n",
      "Epoch 84/100\n",
      "250/250 [==============================] - 1s 2ms/step - loss: 0.3340 - accuracy: 0.8630\n",
      "Epoch 85/100\n",
      "250/250 [==============================] - 0s 2ms/step - loss: 0.3348 - accuracy: 0.8637\n",
      "Epoch 86/100\n",
      "250/250 [==============================] - 1s 2ms/step - loss: 0.3344 - accuracy: 0.8614\n",
      "Epoch 87/100\n",
      "250/250 [==============================] - 0s 2ms/step - loss: 0.3341 - accuracy: 0.8634\n",
      "Epoch 88/100\n",
      "250/250 [==============================] - 0s 2ms/step - loss: 0.3342 - accuracy: 0.8643\n",
      "Epoch 89/100\n",
      "250/250 [==============================] - 1s 3ms/step - loss: 0.3338 - accuracy: 0.8616\n",
      "Epoch 90/100\n",
      "250/250 [==============================] - 1s 5ms/step - loss: 0.3342 - accuracy: 0.8627\n",
      "Epoch 91/100\n",
      "250/250 [==============================] - 1s 6ms/step - loss: 0.3335 - accuracy: 0.8625\n",
      "Epoch 92/100\n",
      "250/250 [==============================] - 1s 3ms/step - loss: 0.3343 - accuracy: 0.8636\n",
      "Epoch 93/100\n",
      "250/250 [==============================] - 1s 3ms/step - loss: 0.3335 - accuracy: 0.8618\n",
      "Epoch 94/100\n",
      "250/250 [==============================] - 1s 4ms/step - loss: 0.3335 - accuracy: 0.8631\n",
      "Epoch 95/100\n",
      "250/250 [==============================] - 1s 3ms/step - loss: 0.3339 - accuracy: 0.8627\n",
      "Epoch 96/100\n",
      "250/250 [==============================] - 1s 2ms/step - loss: 0.3339 - accuracy: 0.8643\n",
      "Epoch 97/100\n",
      "250/250 [==============================] - 1s 2ms/step - loss: 0.3337 - accuracy: 0.8640\n",
      "Epoch 98/100\n",
      "250/250 [==============================] - 0s 2ms/step - loss: 0.3337 - accuracy: 0.8636\n",
      "Epoch 99/100\n",
      "250/250 [==============================] - 0s 2ms/step - loss: 0.3339 - accuracy: 0.8634\n",
      "Epoch 100/100\n",
      "250/250 [==============================] - 0s 2ms/step - loss: 0.3332 - accuracy: 0.8624\n"
     ]
    },
    {
     "data": {
      "text/plain": [
       "<keras.callbacks.History at 0x7fc53037d5d0>"
      ]
     },
     "execution_count": 75,
     "metadata": {},
     "output_type": "execute_result"
    }
   ],
   "source": [
    "ann.fit(X_train, y_train, batch_size = 32, epochs = 100)"
   ]
  },
  {
   "cell_type": "markdown",
   "id": "ed067858",
   "metadata": {},
   "source": [
    "# Predicting the result"
   ]
  },
  {
   "cell_type": "code",
   "execution_count": 68,
   "id": "722b6a9d",
   "metadata": {},
   "outputs": [
    {
     "name": "stdout",
     "output_type": "stream",
     "text": [
      "1/1 [==============================] - 0s 91ms/step\n",
      "[[False]]\n"
     ]
    }
   ],
   "source": [
    "# predicgint only a single observation\n",
    "print(ann.predict(sc.transform([[1, 0, 0, 600, 1, 40, 3, 60000, 2, 1, 1, 50000]])) > 0.5)"
   ]
  },
  {
   "cell_type": "code",
   "execution_count": 69,
   "id": "15da7fd5",
   "metadata": {},
   "outputs": [
    {
     "name": "stdout",
     "output_type": "stream",
     "text": [
      "63/63 [==============================] - 0s 1ms/step\n",
      "[[0 0]\n",
      " [0 1]\n",
      " [0 0]\n",
      " ...\n",
      " [0 0]\n",
      " [0 0]\n",
      " [0 0]]\n"
     ]
    }
   ],
   "source": [
    "y_pred = ann.predict(X_test)\n",
    "y_pred = (y_pred > 0.5)\n",
    "print(np.concatenate((y_pred.reshape(len(y_pred),1), y_test.reshape(len(y_test),1)),1))"
   ]
  },
  {
   "cell_type": "code",
   "execution_count": 70,
   "id": "4f2909d9",
   "metadata": {},
   "outputs": [],
   "source": [
    "### Metrics and accuracy"
   ]
  },
  {
   "cell_type": "code",
   "execution_count": 71,
   "id": "b97f725c",
   "metadata": {},
   "outputs": [
    {
     "name": "stdout",
     "output_type": "stream",
     "text": [
      "[[1510   85]\n",
      " [ 199  206]]\n"
     ]
    },
    {
     "data": {
      "text/plain": [
       "0.858"
      ]
     },
     "execution_count": 71,
     "metadata": {},
     "output_type": "execute_result"
    }
   ],
   "source": [
    "from sklearn.metrics import confusion_matrix, accuracy_score\n",
    "cm = confusion_matrix(y_test, y_pred)\n",
    "print(cm)\n",
    "accuracy_score(y_test, y_pred)"
   ]
  },
  {
   "cell_type": "code",
   "execution_count": null,
   "id": "571f6a36",
   "metadata": {},
   "outputs": [],
   "source": []
  }
 ],
 "metadata": {
  "kernelspec": {
   "display_name": "Python 3 (ipykernel)",
   "language": "python",
   "name": "python3"
  },
  "language_info": {
   "codemirror_mode": {
    "name": "ipython",
    "version": 3
   },
   "file_extension": ".py",
   "mimetype": "text/x-python",
   "name": "python",
   "nbconvert_exporter": "python",
   "pygments_lexer": "ipython3",
   "version": "3.11.3"
  }
 },
 "nbformat": 4,
 "nbformat_minor": 5
}
