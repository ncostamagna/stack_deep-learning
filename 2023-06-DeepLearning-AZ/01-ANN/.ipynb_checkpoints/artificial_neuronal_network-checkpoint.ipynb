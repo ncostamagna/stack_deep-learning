{
 "cells": [
  {
   "cell_type": "markdown",
   "id": "0dd05158",
   "metadata": {},
   "source": [
    "# Installations"
   ]
  },
  {
   "cell_type": "code",
   "execution_count": 7,
   "id": "160d8191",
   "metadata": {
    "scrolled": true
   },
   "outputs": [
    {
     "name": "stdout",
     "output_type": "stream",
     "text": [
      "Requirement already satisfied: nvidia-cudnn-cu11==8.6.0.163 in /home/nahuel/anaconda3/envs/python3_11_3/lib/python3.11/site-packages (8.6.0.163)\n",
      "Requirement already satisfied: tensorflow==2.12.* in /home/nahuel/anaconda3/envs/python3_11_3/lib/python3.11/site-packages (2.12.0)\n",
      "Requirement already satisfied: nvidia-cublas-cu11 in /home/nahuel/anaconda3/envs/python3_11_3/lib/python3.11/site-packages (from nvidia-cudnn-cu11==8.6.0.163) (11.11.3.6)\n",
      "Requirement already satisfied: absl-py>=1.0.0 in /home/nahuel/anaconda3/envs/python3_11_3/lib/python3.11/site-packages (from tensorflow==2.12.*) (1.4.0)\n",
      "Requirement already satisfied: astunparse>=1.6.0 in /home/nahuel/anaconda3/envs/python3_11_3/lib/python3.11/site-packages (from tensorflow==2.12.*) (1.6.3)\n",
      "Requirement already satisfied: flatbuffers>=2.0 in /home/nahuel/anaconda3/envs/python3_11_3/lib/python3.11/site-packages (from tensorflow==2.12.*) (23.5.26)\n",
      "Requirement already satisfied: gast<=0.4.0,>=0.2.1 in /home/nahuel/anaconda3/envs/python3_11_3/lib/python3.11/site-packages (from tensorflow==2.12.*) (0.4.0)\n",
      "Requirement already satisfied: google-pasta>=0.1.1 in /home/nahuel/anaconda3/envs/python3_11_3/lib/python3.11/site-packages (from tensorflow==2.12.*) (0.2.0)\n",
      "Requirement already satisfied: grpcio<2.0,>=1.24.3 in /home/nahuel/anaconda3/envs/python3_11_3/lib/python3.11/site-packages (from tensorflow==2.12.*) (1.56.0)\n",
      "Requirement already satisfied: h5py>=2.9.0 in /home/nahuel/anaconda3/envs/python3_11_3/lib/python3.11/site-packages (from tensorflow==2.12.*) (3.9.0)\n",
      "Requirement already satisfied: jax>=0.3.15 in /home/nahuel/anaconda3/envs/python3_11_3/lib/python3.11/site-packages (from tensorflow==2.12.*) (0.4.13)\n",
      "Requirement already satisfied: keras<2.13,>=2.12.0 in /home/nahuel/anaconda3/envs/python3_11_3/lib/python3.11/site-packages (from tensorflow==2.12.*) (2.12.0)\n",
      "Requirement already satisfied: libclang>=13.0.0 in /home/nahuel/anaconda3/envs/python3_11_3/lib/python3.11/site-packages (from tensorflow==2.12.*) (16.0.0)\n",
      "Requirement already satisfied: numpy<1.24,>=1.22 in /home/nahuel/anaconda3/envs/python3_11_3/lib/python3.11/site-packages (from tensorflow==2.12.*) (1.23.5)\n",
      "Requirement already satisfied: opt-einsum>=2.3.2 in /home/nahuel/anaconda3/envs/python3_11_3/lib/python3.11/site-packages (from tensorflow==2.12.*) (3.3.0)\n",
      "Requirement already satisfied: packaging in /home/nahuel/anaconda3/envs/python3_11_3/lib/python3.11/site-packages (from tensorflow==2.12.*) (23.1)\n",
      "Requirement already satisfied: protobuf!=4.21.0,!=4.21.1,!=4.21.2,!=4.21.3,!=4.21.4,!=4.21.5,<5.0.0dev,>=3.20.3 in /home/nahuel/anaconda3/envs/python3_11_3/lib/python3.11/site-packages (from tensorflow==2.12.*) (4.23.3)\n",
      "Requirement already satisfied: setuptools in /home/nahuel/anaconda3/envs/python3_11_3/lib/python3.11/site-packages (from tensorflow==2.12.*) (66.0.0)\n",
      "Requirement already satisfied: six>=1.12.0 in /home/nahuel/anaconda3/envs/python3_11_3/lib/python3.11/site-packages (from tensorflow==2.12.*) (1.16.0)\n",
      "Requirement already satisfied: tensorboard<2.13,>=2.12 in /home/nahuel/anaconda3/envs/python3_11_3/lib/python3.11/site-packages (from tensorflow==2.12.*) (2.12.3)\n",
      "Requirement already satisfied: tensorflow-estimator<2.13,>=2.12.0 in /home/nahuel/anaconda3/envs/python3_11_3/lib/python3.11/site-packages (from tensorflow==2.12.*) (2.12.0)\n",
      "Requirement already satisfied: termcolor>=1.1.0 in /home/nahuel/anaconda3/envs/python3_11_3/lib/python3.11/site-packages (from tensorflow==2.12.*) (2.3.0)\n",
      "Requirement already satisfied: typing-extensions>=3.6.6 in /home/nahuel/anaconda3/envs/python3_11_3/lib/python3.11/site-packages (from tensorflow==2.12.*) (4.6.3)\n",
      "Requirement already satisfied: wrapt<1.15,>=1.11.0 in /home/nahuel/anaconda3/envs/python3_11_3/lib/python3.11/site-packages (from tensorflow==2.12.*) (1.14.1)\n",
      "Requirement already satisfied: tensorflow-io-gcs-filesystem>=0.23.1 in /home/nahuel/anaconda3/envs/python3_11_3/lib/python3.11/site-packages (from tensorflow==2.12.*) (0.32.0)\n",
      "Requirement already satisfied: wheel<1.0,>=0.23.0 in /home/nahuel/anaconda3/envs/python3_11_3/lib/python3.11/site-packages (from astunparse>=1.6.0->tensorflow==2.12.*) (0.38.4)\n",
      "Requirement already satisfied: ml-dtypes>=0.1.0 in /home/nahuel/anaconda3/envs/python3_11_3/lib/python3.11/site-packages (from jax>=0.3.15->tensorflow==2.12.*) (0.2.0)\n",
      "Requirement already satisfied: scipy>=1.7 in /home/nahuel/anaconda3/envs/python3_11_3/lib/python3.11/site-packages (from jax>=0.3.15->tensorflow==2.12.*) (1.10.1)\n",
      "Requirement already satisfied: google-auth<3,>=1.6.3 in /home/nahuel/anaconda3/envs/python3_11_3/lib/python3.11/site-packages (from tensorboard<2.13,>=2.12->tensorflow==2.12.*) (2.20.0)\n",
      "Requirement already satisfied: google-auth-oauthlib<1.1,>=0.5 in /home/nahuel/anaconda3/envs/python3_11_3/lib/python3.11/site-packages (from tensorboard<2.13,>=2.12->tensorflow==2.12.*) (1.0.0)\n",
      "Requirement already satisfied: markdown>=2.6.8 in /home/nahuel/anaconda3/envs/python3_11_3/lib/python3.11/site-packages (from tensorboard<2.13,>=2.12->tensorflow==2.12.*) (3.4.3)\n",
      "Requirement already satisfied: requests<3,>=2.21.0 in /home/nahuel/anaconda3/envs/python3_11_3/lib/python3.11/site-packages (from tensorboard<2.13,>=2.12->tensorflow==2.12.*) (2.31.0)\n",
      "Requirement already satisfied: tensorboard-data-server<0.8.0,>=0.7.0 in /home/nahuel/anaconda3/envs/python3_11_3/lib/python3.11/site-packages (from tensorboard<2.13,>=2.12->tensorflow==2.12.*) (0.7.1)\n",
      "Requirement already satisfied: werkzeug>=1.0.1 in /home/nahuel/anaconda3/envs/python3_11_3/lib/python3.11/site-packages (from tensorboard<2.13,>=2.12->tensorflow==2.12.*) (2.3.6)\n",
      "Requirement already satisfied: cachetools<6.0,>=2.0.0 in /home/nahuel/anaconda3/envs/python3_11_3/lib/python3.11/site-packages (from google-auth<3,>=1.6.3->tensorboard<2.13,>=2.12->tensorflow==2.12.*) (5.3.1)\n",
      "Requirement already satisfied: pyasn1-modules>=0.2.1 in /home/nahuel/anaconda3/envs/python3_11_3/lib/python3.11/site-packages (from google-auth<3,>=1.6.3->tensorboard<2.13,>=2.12->tensorflow==2.12.*) (0.3.0)\n",
      "Requirement already satisfied: rsa<5,>=3.1.4 in /home/nahuel/anaconda3/envs/python3_11_3/lib/python3.11/site-packages (from google-auth<3,>=1.6.3->tensorboard<2.13,>=2.12->tensorflow==2.12.*) (4.9)\n",
      "Requirement already satisfied: urllib3<2.0 in /home/nahuel/anaconda3/envs/python3_11_3/lib/python3.11/site-packages (from google-auth<3,>=1.6.3->tensorboard<2.13,>=2.12->tensorflow==2.12.*) (1.26.16)\n",
      "Requirement already satisfied: requests-oauthlib>=0.7.0 in /home/nahuel/anaconda3/envs/python3_11_3/lib/python3.11/site-packages (from google-auth-oauthlib<1.1,>=0.5->tensorboard<2.13,>=2.12->tensorflow==2.12.*) (1.3.1)\n",
      "Requirement already satisfied: charset-normalizer<4,>=2 in /home/nahuel/anaconda3/envs/python3_11_3/lib/python3.11/site-packages (from requests<3,>=2.21.0->tensorboard<2.13,>=2.12->tensorflow==2.12.*) (3.1.0)\n",
      "Requirement already satisfied: idna<4,>=2.5 in /home/nahuel/anaconda3/envs/python3_11_3/lib/python3.11/site-packages (from requests<3,>=2.21.0->tensorboard<2.13,>=2.12->tensorflow==2.12.*) (3.4)\n",
      "Requirement already satisfied: certifi>=2017.4.17 in /home/nahuel/anaconda3/envs/python3_11_3/lib/python3.11/site-packages (from requests<3,>=2.21.0->tensorboard<2.13,>=2.12->tensorflow==2.12.*) (2023.5.7)\n",
      "Requirement already satisfied: MarkupSafe>=2.1.1 in /home/nahuel/anaconda3/envs/python3_11_3/lib/python3.11/site-packages (from werkzeug>=1.0.1->tensorboard<2.13,>=2.12->tensorflow==2.12.*) (2.1.3)\n",
      "Requirement already satisfied: pyasn1<0.6.0,>=0.4.6 in /home/nahuel/anaconda3/envs/python3_11_3/lib/python3.11/site-packages (from pyasn1-modules>=0.2.1->google-auth<3,>=1.6.3->tensorboard<2.13,>=2.12->tensorflow==2.12.*) (0.5.0)\n",
      "Requirement already satisfied: oauthlib>=3.0.0 in /home/nahuel/anaconda3/envs/python3_11_3/lib/python3.11/site-packages (from requests-oauthlib>=0.7.0->google-auth-oauthlib<1.1,>=0.5->tensorboard<2.13,>=2.12->tensorflow==2.12.*) (3.2.2)\n"
     ]
    }
   ],
   "source": [
    "!pip install nvidia-cudnn-cu11==8.6.0.163 tensorflow==2.12.*"
   ]
  },
  {
   "cell_type": "code",
   "execution_count": 15,
   "id": "e5c0d3cd",
   "metadata": {},
   "outputs": [
    {
     "name": "stdout",
     "output_type": "stream",
     "text": [
      "Requirement already satisfied: pandas in /home/nahuel/anaconda3/envs/python3_11_3/lib/python3.11/site-packages (2.0.2)\n",
      "Requirement already satisfied: numpy in /home/nahuel/anaconda3/envs/python3_11_3/lib/python3.11/site-packages (1.23.5)\n",
      "Requirement already satisfied: python-dateutil>=2.8.2 in /home/nahuel/anaconda3/envs/python3_11_3/lib/python3.11/site-packages (from pandas) (2.8.2)\n",
      "Requirement already satisfied: pytz>=2020.1 in /home/nahuel/anaconda3/envs/python3_11_3/lib/python3.11/site-packages (from pandas) (2023.3)\n",
      "Requirement already satisfied: tzdata>=2022.1 in /home/nahuel/anaconda3/envs/python3_11_3/lib/python3.11/site-packages (from pandas) (2023.3)\n",
      "Requirement already satisfied: six>=1.5 in /home/nahuel/anaconda3/envs/python3_11_3/lib/python3.11/site-packages (from python-dateutil>=2.8.2->pandas) (1.16.0)\n",
      "Collecting scikit-learn\n",
      "  Downloading scikit_learn-1.2.2-cp311-cp311-manylinux_2_17_x86_64.manylinux2014_x86_64.whl (9.6 MB)\n",
      "\u001b[2K     \u001b[38;2;114;156;31m━━━━━━━━━━━━━━━━━━━━━━━━━━━━━━━━━━━━━━━━\u001b[0m \u001b[32m9.6/9.6 MB\u001b[0m \u001b[31m937.3 kB/s\u001b[0m eta \u001b[36m0:00:00\u001b[0mm eta \u001b[36m0:00:01\u001b[0m[36m0:00:01\u001b[0m\n",
      "\u001b[?25hRequirement already satisfied: numpy>=1.17.3 in /home/nahuel/anaconda3/envs/python3_11_3/lib/python3.11/site-packages (from scikit-learn) (1.23.5)\n",
      "Requirement already satisfied: scipy>=1.3.2 in /home/nahuel/anaconda3/envs/python3_11_3/lib/python3.11/site-packages (from scikit-learn) (1.10.1)\n",
      "Collecting joblib>=1.1.1\n",
      "  Downloading joblib-1.2.0-py3-none-any.whl (297 kB)\n",
      "\u001b[2K     \u001b[38;2;114;156;31m━━━━━━━━━━━━━━━━━━━━━━━━━━━━━━━━━━━━━\u001b[0m \u001b[32m298.0/298.0 kB\u001b[0m \u001b[31m848.1 kB/s\u001b[0m eta \u001b[36m0:00:00\u001b[0m MB/s\u001b[0m eta \u001b[36m0:00:01\u001b[0m:01\u001b[0m\n",
      "\u001b[?25hCollecting threadpoolctl>=2.0.0\n",
      "  Using cached threadpoolctl-3.1.0-py3-none-any.whl (14 kB)\n",
      "Installing collected packages: threadpoolctl, joblib, scikit-learn\n",
      "Successfully installed joblib-1.2.0 scikit-learn-1.2.2 threadpoolctl-3.1.0\n"
     ]
    }
   ],
   "source": [
    "!pip install pandas numpy\n",
    "!pip install -U scikit-learn"
   ]
  },
  {
   "cell_type": "markdown",
   "id": "aac0c626",
   "metadata": {},
   "source": [
    "# Import"
   ]
  },
  {
   "cell_type": "code",
   "execution_count": 9,
   "id": "4276febe",
   "metadata": {},
   "outputs": [],
   "source": [
    "import numpy as np\n",
    "import pandas as pd\n",
    "import tensorflow as tf"
   ]
  },
  {
   "cell_type": "code",
   "execution_count": 10,
   "id": "a2ed31b2",
   "metadata": {},
   "outputs": [
    {
     "data": {
      "text/plain": [
       "'2.12.0'"
      ]
     },
     "execution_count": 10,
     "metadata": {},
     "output_type": "execute_result"
    }
   ],
   "source": [
    "tf.__version__"
   ]
  },
  {
   "cell_type": "markdown",
   "id": "d4c48555",
   "metadata": {},
   "source": [
    "# Import data"
   ]
  },
  {
   "cell_type": "code",
   "execution_count": 26,
   "id": "f80c728e",
   "metadata": {},
   "outputs": [],
   "source": [
    "dataset = pd.read_csv('Churn_Modelling.csv')\n",
    "X = dataset.iloc[:, 3:-1].values \n",
    "y = dataset.iloc[:, -1].values # y values to compare"
   ]
  },
  {
   "cell_type": "code",
   "execution_count": 27,
   "id": "4a3604fb",
   "metadata": {},
   "outputs": [
    {
     "name": "stdout",
     "output_type": "stream",
     "text": [
      "[1 0 1 ... 1 1 0]\n",
      "[[619 'France' 'Female' ... 1 1 101348.88]\n",
      " [608 'Spain' 'Female' ... 0 1 112542.58]\n",
      " [502 'France' 'Female' ... 1 0 113931.57]\n",
      " ...\n",
      " [709 'France' 'Female' ... 0 1 42085.58]\n",
      " [772 'Germany' 'Male' ... 1 0 92888.52]\n",
      " [792 'France' 'Female' ... 1 0 38190.78]]\n"
     ]
    }
   ],
   "source": [
    "print(y)\n",
    "print(X)"
   ]
  },
  {
   "cell_type": "markdown",
   "id": "b9633595",
   "metadata": {},
   "source": [
    "# Encoding categorical data"
   ]
  },
  {
   "cell_type": "markdown",
   "id": "fb7c105d",
   "metadata": {},
   "source": [
    "Encoding the \"Gender\" column.<br/>\n",
    "From ['Male','Famele'] to [1,0]"
   ]
  },
  {
   "cell_type": "code",
   "execution_count": 28,
   "id": "c9f0acf8",
   "metadata": {},
   "outputs": [
    {
     "name": "stdout",
     "output_type": "stream",
     "text": [
      "[[619 'France' 0 ... 1 1 101348.88]\n",
      " [608 'Spain' 0 ... 0 1 112542.58]\n",
      " [502 'France' 0 ... 1 0 113931.57]\n",
      " ...\n",
      " [709 'France' 0 ... 0 1 42085.58]\n",
      " [772 'Germany' 1 ... 1 0 92888.52]\n",
      " [792 'France' 0 ... 1 0 38190.78]]\n"
     ]
    }
   ],
   "source": [
    "from sklearn.preprocessing import LabelEncoder\n",
    "le = LabelEncoder()\n",
    "X[:, 2] = le.fit_transform(X[:, 2]) # Only column 2 (gender)\n",
    "\n",
    "print(X)"
   ]
  },
  {
   "cell_type": "markdown",
   "id": "ee3077b2",
   "metadata": {},
   "source": [
    "One Hot Encoding the \"Geography\" column"
   ]
  },
  {
   "cell_type": "code",
   "execution_count": 33,
   "id": "a6e6f46b",
   "metadata": {},
   "outputs": [
    {
     "name": "stdout",
     "output_type": "stream",
     "text": [
      "[1.0 0.0 1.0 1.0 1.0 0.0 1.0 608 0 41 1 83807.86 1 0 1 112542.58]\n"
     ]
    }
   ],
   "source": [
    "from sklearn.compose import ColumnTransformer\n",
    "from sklearn.preprocessing import OneHotEncoder\n",
    "# for geography column, the process set the encoder coulumn (geo) first\n",
    "# comibation between 0s and 1s\n",
    "# 101 => France 100 => Spain\n",
    "ct = ColumnTransformer(transformers=[('encoder', OneHotEncoder(), [1])], remainder='passthrough')\n",
    "X = np.array(ct.fit_transform(X))\n",
    "print(X[1])"
   ]
  },
  {
   "cell_type": "code",
   "execution_count": null,
   "id": "3f87e6e5",
   "metadata": {},
   "outputs": [],
   "source": []
  }
 ],
 "metadata": {
  "kernelspec": {
   "display_name": "Python 3 (ipykernel)",
   "language": "python",
   "name": "python3"
  },
  "language_info": {
   "codemirror_mode": {
    "name": "ipython",
    "version": 3
   },
   "file_extension": ".py",
   "mimetype": "text/x-python",
   "name": "python",
   "nbconvert_exporter": "python",
   "pygments_lexer": "ipython3",
   "version": "3.11.3"
  }
 },
 "nbformat": 4,
 "nbformat_minor": 5
}
